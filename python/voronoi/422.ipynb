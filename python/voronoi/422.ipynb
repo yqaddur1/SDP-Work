{
 "cells": [
  {
   "cell_type": "code",
   "execution_count": 37,
   "id": "812805f1",
   "metadata": {},
   "outputs": [
    {
     "data": {
      "text/html": [
       "    <style>\n",
       "        .bk-notebook-logo {\n",
       "            display: block;\n",
       "            width: 20px;\n",
       "            height: 20px;\n",
       "            background-image: url(data:image/png;base64,iVBORw0KGgoAAAANSUhEUgAAABQAAAAUCAYAAACNiR0NAAAABHNCSVQICAgIfAhkiAAAAAlwSFlzAAALEgAACxIB0t1+/AAAABx0RVh0U29mdHdhcmUAQWRvYmUgRmlyZXdvcmtzIENTNui8sowAAAOkSURBVDiNjZRtaJVlGMd/1/08zzln5zjP1LWcU9N0NkN8m2CYjpgQYQXqSs0I84OLIC0hkEKoPtiH3gmKoiJDU7QpLgoLjLIQCpEsNJ1vqUOdO7ppbuec5+V+rj4ctwzd8IIbbi6u+8f1539dt3A78eXC7QizUF7gyV1fD1Yqg4JWz84yffhm0qkFqBogB9rM8tZdtwVsPUhWhGcFJngGeWrPzHm5oaMmkfEg1usvLFyc8jLRqDOMru7AyC8saQr7GG7f5fvDeH7Ej8CM66nIF+8yngt6HWaKh7k49Soy9nXurCi1o3qUbS3zWfrYeQDTB/Qj6kX6Ybhw4B+bOYoLKCC9H3Nu/leUTZ1JdRWkkn2ldcCamzrcf47KKXdAJllSlxAOkRgyHsGC/zRday5Qld9DyoM4/q/rUoy/CXh3jzOu3bHUVZeU+DEn8FInkPBFlu3+nW3Nw0mk6vCDiWg8CeJaxEwuHS3+z5RgY+YBR6V1Z1nxSOfoaPa4LASWxxdNp+VWTk7+4vzaou8v8PN+xo+KY2xsw6une2frhw05CTYOmQvsEhjhWjn0bmXPjpE1+kplmmkP3suftwTubK9Vq22qKmrBhpY4jvd5afdRA3wGjFAgcnTK2s4hY0/GPNIb0nErGMCRxWOOX64Z8RAC4oCXdklmEvcL8o0BfkNK4lUg9HTl+oPlQxdNo3Mg4Nv175e/1LDGzZen30MEjRUtmXSfiTVu1kK8W4txyV6BMKlbgk3lMwYCiusNy9fVfvvwMxv8Ynl6vxoByANLTWplvuj/nF9m2+PDtt1eiHPBr1oIfhCChQMBw6Aw0UulqTKZdfVvfG7VcfIqLG9bcldL/+pdWTLxLUy8Qq38heUIjh4XlzZxzQm19lLFlr8vdQ97rjZVOLf8nclzckbcD4wxXMidpX30sFd37Fv/GtwwhzhxGVAprjbg0gCAEeIgwCZyTV2Z1REEW8O4py0wsjeloKoMr6iCY6dP92H6Vw/oTyICIthibxjm/DfN9lVz8IqtqKYLUXfoKVMVQVVJOElGjrnnUt9T9wbgp8AyYKaGlqingHZU/uG2NTZSVqwHQTWkx9hxjkpWDaCg6Ckj5qebgBVbT3V3NNXMSiWSDdGV3hrtzla7J+duwPOToIg42ChPQOQjspnSlp1V+Gjdged7+8UN5CRAV7a5EdFNwCjEaBR27b3W890TE7g24NAP/mMDXRWrGoFPQI9ls/MWO2dWFAar/xcOIImbbpA3zgAAAABJRU5ErkJggg==);\n",
       "        }\n",
       "    </style>\n",
       "    <div>\n",
       "        <a href=\"https://bokeh.org\" target=\"_blank\" class=\"bk-notebook-logo\"></a>\n",
       "        <span id=\"f23d4418-85dc-4b33-8d38-17dcba54c7c9\">Loading BokehJS ...</span>\n",
       "    </div>\n"
      ]
     },
     "metadata": {},
     "output_type": "display_data"
    },
    {
     "data": {
      "application/javascript": "'use strict';\n(function(root) {\n  function now() {\n    return new Date();\n  }\n\n  const force = true;\n\n  if (typeof root._bokeh_onload_callbacks === \"undefined\" || force === true) {\n    root._bokeh_onload_callbacks = [];\n    root._bokeh_is_loading = undefined;\n  }\n\nconst JS_MIME_TYPE = 'application/javascript';\n  const HTML_MIME_TYPE = 'text/html';\n  const EXEC_MIME_TYPE = 'application/vnd.bokehjs_exec.v0+json';\n  const CLASS_NAME = 'output_bokeh rendered_html';\n\n  /**\n   * Render data to the DOM node\n   */\n  function render(props, node) {\n    const script = document.createElement(\"script\");\n    node.appendChild(script);\n  }\n\n  /**\n   * Handle when an output is cleared or removed\n   */\n  function handleClearOutput(event, handle) {\n    function drop(id) {\n      const view = Bokeh.index.get_by_id(id)\n      if (view != null) {\n        view.model.document.clear()\n        Bokeh.index.delete(view)\n      }\n    }\n\n    const cell = handle.cell;\n\n    const id = cell.output_area._bokeh_element_id;\n    const server_id = cell.output_area._bokeh_server_id;\n\n    // Clean up Bokeh references\n    if (id != null) {\n      drop(id)\n    }\n\n    if (server_id !== undefined) {\n      // Clean up Bokeh references\n      const cmd_clean = \"from bokeh.io.state import curstate; print(curstate().uuid_to_server['\" + server_id + \"'].get_sessions()[0].document.roots[0]._id)\";\n      cell.notebook.kernel.execute(cmd_clean, {\n        iopub: {\n          output: function(msg) {\n            const id = msg.content.text.trim()\n            drop(id)\n          }\n        }\n      });\n      // Destroy server and session\n      const cmd_destroy = \"import bokeh.io.notebook as ion; ion.destroy_server('\" + server_id + \"')\";\n      cell.notebook.kernel.execute(cmd_destroy);\n    }\n  }\n\n  /**\n   * Handle when a new output is added\n   */\n  function handleAddOutput(event, handle) {\n    const output_area = handle.output_area;\n    const output = handle.output;\n\n    // limit handleAddOutput to display_data with EXEC_MIME_TYPE content only\n    if ((output.output_type != \"display_data\") || (!Object.prototype.hasOwnProperty.call(output.data, EXEC_MIME_TYPE))) {\n      return\n    }\n\n    const toinsert = output_area.element.find(\".\" + CLASS_NAME.split(' ')[0]);\n\n    if (output.metadata[EXEC_MIME_TYPE][\"id\"] !== undefined) {\n      toinsert[toinsert.length - 1].firstChild.textContent = output.data[JS_MIME_TYPE];\n      // store reference to embed id on output_area\n      output_area._bokeh_element_id = output.metadata[EXEC_MIME_TYPE][\"id\"];\n    }\n    if (output.metadata[EXEC_MIME_TYPE][\"server_id\"] !== undefined) {\n      const bk_div = document.createElement(\"div\");\n      bk_div.innerHTML = output.data[HTML_MIME_TYPE];\n      const script_attrs = bk_div.children[0].attributes;\n      for (let i = 0; i < script_attrs.length; i++) {\n        toinsert[toinsert.length - 1].firstChild.setAttribute(script_attrs[i].name, script_attrs[i].value);\n        toinsert[toinsert.length - 1].firstChild.textContent = bk_div.children[0].textContent\n      }\n      // store reference to server id on output_area\n      output_area._bokeh_server_id = output.metadata[EXEC_MIME_TYPE][\"server_id\"];\n    }\n  }\n\n  function register_renderer(events, OutputArea) {\n\n    function append_mime(data, metadata, element) {\n      // create a DOM node to render to\n      const toinsert = this.create_output_subarea(\n        metadata,\n        CLASS_NAME,\n        EXEC_MIME_TYPE\n      );\n      this.keyboard_manager.register_events(toinsert);\n      // Render to node\n      const props = {data: data, metadata: metadata[EXEC_MIME_TYPE]};\n      render(props, toinsert[toinsert.length - 1]);\n      element.append(toinsert);\n      return toinsert\n    }\n\n    /* Handle when an output is cleared or removed */\n    events.on('clear_output.CodeCell', handleClearOutput);\n    events.on('delete.Cell', handleClearOutput);\n\n    /* Handle when a new output is added */\n    events.on('output_added.OutputArea', handleAddOutput);\n\n    /**\n     * Register the mime type and append_mime function with output_area\n     */\n    OutputArea.prototype.register_mime_type(EXEC_MIME_TYPE, append_mime, {\n      /* Is output safe? */\n      safe: true,\n      /* Index of renderer in `output_area.display_order` */\n      index: 0\n    });\n  }\n\n  // register the mime type if in Jupyter Notebook environment and previously unregistered\n  if (root.Jupyter !== undefined) {\n    const events = require('base/js/events');\n    const OutputArea = require('notebook/js/outputarea').OutputArea;\n\n    if (OutputArea.prototype.mime_types().indexOf(EXEC_MIME_TYPE) == -1) {\n      register_renderer(events, OutputArea);\n    }\n  }\n  if (typeof (root._bokeh_timeout) === \"undefined\" || force === true) {\n    root._bokeh_timeout = Date.now() + 5000;\n    root._bokeh_failed_load = false;\n  }\n\n  const NB_LOAD_WARNING = {'data': {'text/html':\n     \"<div style='background-color: #fdd'>\\n\"+\n     \"<p>\\n\"+\n     \"BokehJS does not appear to have successfully loaded. If loading BokehJS from CDN, this \\n\"+\n     \"may be due to a slow or bad network connection. Possible fixes:\\n\"+\n     \"</p>\\n\"+\n     \"<ul>\\n\"+\n     \"<li>re-rerun `output_notebook()` to attempt to load from CDN again, or</li>\\n\"+\n     \"<li>use INLINE resources instead, as so:</li>\\n\"+\n     \"</ul>\\n\"+\n     \"<code>\\n\"+\n     \"from bokeh.resources import INLINE\\n\"+\n     \"output_notebook(resources=INLINE)\\n\"+\n     \"</code>\\n\"+\n     \"</div>\"}};\n\n  function display_loaded(error = null) {\n    const el = document.getElementById(\"f23d4418-85dc-4b33-8d38-17dcba54c7c9\");\n    if (el != null) {\n      const html = (() => {\n        if (typeof root.Bokeh === \"undefined\") {\n          if (error == null) {\n            return \"BokehJS is loading ...\";\n          } else {\n            return \"BokehJS failed to load.\";\n          }\n        } else {\n          const prefix = `BokehJS ${root.Bokeh.version}`;\n          if (error == null) {\n            return `${prefix} successfully loaded.`;\n          } else {\n            return `${prefix} <b>encountered errors</b> while loading and may not function as expected.`;\n          }\n        }\n      })();\n      el.innerHTML = html;\n\n      if (error != null) {\n        const wrapper = document.createElement(\"div\");\n        wrapper.style.overflow = \"auto\";\n        wrapper.style.height = \"5em\";\n        wrapper.style.resize = \"vertical\";\n        const content = document.createElement(\"div\");\n        content.style.fontFamily = \"monospace\";\n        content.style.whiteSpace = \"pre-wrap\";\n        content.style.backgroundColor = \"rgb(255, 221, 221)\";\n        content.textContent = error.stack ?? error.toString();\n        wrapper.append(content);\n        el.append(wrapper);\n      }\n    } else if (Date.now() < root._bokeh_timeout) {\n      setTimeout(() => display_loaded(error), 100);\n    }\n  }\n\n  function run_callbacks() {\n    try {\n      root._bokeh_onload_callbacks.forEach(function(callback) {\n        if (callback != null)\n          callback();\n      });\n    } finally {\n      delete root._bokeh_onload_callbacks\n    }\n    console.debug(\"Bokeh: all callbacks have finished\");\n  }\n\n  function load_libs(css_urls, js_urls, callback) {\n    if (css_urls == null) css_urls = [];\n    if (js_urls == null) js_urls = [];\n\n    root._bokeh_onload_callbacks.push(callback);\n    if (root._bokeh_is_loading > 0) {\n      console.debug(\"Bokeh: BokehJS is being loaded, scheduling callback at\", now());\n      return null;\n    }\n    if (js_urls == null || js_urls.length === 0) {\n      run_callbacks();\n      return null;\n    }\n    console.debug(\"Bokeh: BokehJS not loaded, scheduling load and callback at\", now());\n    root._bokeh_is_loading = css_urls.length + js_urls.length;\n\n    function on_load() {\n      root._bokeh_is_loading--;\n      if (root._bokeh_is_loading === 0) {\n        console.debug(\"Bokeh: all BokehJS libraries/stylesheets loaded\");\n        run_callbacks()\n      }\n    }\n\n    function on_error(url) {\n      console.error(\"failed to load \" + url);\n    }\n\n    for (let i = 0; i < css_urls.length; i++) {\n      const url = css_urls[i];\n      const element = document.createElement(\"link\");\n      element.onload = on_load;\n      element.onerror = on_error.bind(null, url);\n      element.rel = \"stylesheet\";\n      element.type = \"text/css\";\n      element.href = url;\n      console.debug(\"Bokeh: injecting link tag for BokehJS stylesheet: \", url);\n      document.body.appendChild(element);\n    }\n\n    for (let i = 0; i < js_urls.length; i++) {\n      const url = js_urls[i];\n      const element = document.createElement('script');\n      element.onload = on_load;\n      element.onerror = on_error.bind(null, url);\n      element.async = false;\n      element.src = url;\n      console.debug(\"Bokeh: injecting script tag for BokehJS library: \", url);\n      document.head.appendChild(element);\n    }\n  };\n\n  function inject_raw_css(css) {\n    const element = document.createElement(\"style\");\n    element.appendChild(document.createTextNode(css));\n    document.body.appendChild(element);\n  }\n\n  const js_urls = [\"https://cdn.bokeh.org/bokeh/release/bokeh-3.6.2.min.js\", \"https://cdn.bokeh.org/bokeh/release/bokeh-gl-3.6.2.min.js\", \"https://cdn.bokeh.org/bokeh/release/bokeh-widgets-3.6.2.min.js\", \"https://cdn.bokeh.org/bokeh/release/bokeh-tables-3.6.2.min.js\", \"https://cdn.bokeh.org/bokeh/release/bokeh-mathjax-3.6.2.min.js\"];\n  const css_urls = [];\n\n  const inline_js = [    function(Bokeh) {\n      Bokeh.set_log_level(\"info\");\n    },\nfunction(Bokeh) {\n    }\n  ];\n\n  function run_inline_js() {\n    if (root.Bokeh !== undefined || force === true) {\n      try {\n            for (let i = 0; i < inline_js.length; i++) {\n      inline_js[i].call(root, root.Bokeh);\n    }\n\n      } catch (error) {display_loaded(error);throw error;\n      }if (force === true) {\n        display_loaded();\n      }} else if (Date.now() < root._bokeh_timeout) {\n      setTimeout(run_inline_js, 100);\n    } else if (!root._bokeh_failed_load) {\n      console.log(\"Bokeh: BokehJS failed to load within specified timeout.\");\n      root._bokeh_failed_load = true;\n    } else if (force !== true) {\n      const cell = $(document.getElementById(\"f23d4418-85dc-4b33-8d38-17dcba54c7c9\")).parents('.cell').data().cell;\n      cell.output_area.append_execute_result(NB_LOAD_WARNING)\n    }\n  }\n\n  if (root._bokeh_is_loading === 0) {\n    console.debug(\"Bokeh: BokehJS loaded, going straight to plotting\");\n    run_inline_js();\n  } else {\n    load_libs(css_urls, js_urls, function() {\n      console.debug(\"Bokeh: BokehJS plotting callback run at\", now());\n      run_inline_js();\n    });\n  }\n}(window));",
      "application/vnd.bokehjs_load.v0+json": ""
     },
     "metadata": {},
     "output_type": "display_data"
    },
    {
     "data": {
      "text/html": [
       "\n",
       "  <div id=\"d286f383-f797-4426-8dfa-12af7af89a7b\" data-root-id=\"p5211\" style=\"display: contents;\"></div>\n"
      ]
     },
     "metadata": {},
     "output_type": "display_data"
    },
    {
     "data": {
      "application/javascript": "(function(root) {\n  function embed_document(root) {\n  const docs_json = {\"456bc87a-6edc-4916-a3b2-6e0b82a6854a\":{\"version\":\"3.6.2\",\"title\":\"Bokeh Application\",\"roots\":[{\"type\":\"object\",\"name\":\"Figure\",\"id\":\"p5211\",\"attributes\":{\"x_range\":{\"type\":\"object\",\"name\":\"Range1d\",\"id\":\"p5221\",\"attributes\":{\"start\":-1.1,\"end\":2.1}},\"y_range\":{\"type\":\"object\",\"name\":\"Range1d\",\"id\":\"p5222\",\"attributes\":{\"start\":-1.1,\"end\":2.1}},\"x_scale\":{\"type\":\"object\",\"name\":\"LinearScale\",\"id\":\"p5223\"},\"y_scale\":{\"type\":\"object\",\"name\":\"LinearScale\",\"id\":\"p5224\"},\"title\":{\"type\":\"object\",\"name\":\"Title\",\"id\":\"p5214\",\"attributes\":{\"text\":\"Rotations & Perpendicular Bisectors\"}},\"renderers\":[{\"type\":\"object\",\"name\":\"GlyphRenderer\",\"id\":\"p5254\",\"attributes\":{\"data_source\":{\"type\":\"object\",\"name\":\"ColumnDataSource\",\"id\":\"p5196\",\"attributes\":{\"js_property_callbacks\":{\"type\":\"map\",\"entries\":[[\"change:data\",[{\"type\":\"object\",\"name\":\"CustomJS\",\"id\":\"p5348\",\"attributes\":{\"args\":{\"type\":\"map\",\"entries\":[[\"base_source\",{\"id\":\"p5196\"}],[\"rot_source\",{\"type\":\"object\",\"name\":\"ColumnDataSource\",\"id\":\"p5199\",\"attributes\":{\"selected\":{\"type\":\"object\",\"name\":\"Selection\",\"id\":\"p5200\",\"attributes\":{\"indices\":[],\"line_indices\":[]}},\"selection_policy\":{\"type\":\"object\",\"name\":\"UnionRenderers\",\"id\":\"p5201\"},\"data\":{\"type\":\"map\",\"entries\":[[\"rot_x\",[]],[\"rot_y\",[]]]}}}],[\"line1_source\",{\"type\":\"object\",\"name\":\"ColumnDataSource\",\"id\":\"p5202\",\"attributes\":{\"selected\":{\"type\":\"object\",\"name\":\"Selection\",\"id\":\"p5203\",\"attributes\":{\"indices\":[],\"line_indices\":[]}},\"selection_policy\":{\"type\":\"object\",\"name\":\"UnionRenderers\",\"id\":\"p5204\"},\"data\":{\"type\":\"map\",\"entries\":[[\"x\",[]],[\"y\",[]]]}}}],[\"line2_source\",{\"type\":\"object\",\"name\":\"ColumnDataSource\",\"id\":\"p5205\",\"attributes\":{\"selected\":{\"type\":\"object\",\"name\":\"Selection\",\"id\":\"p5206\",\"attributes\":{\"indices\":[],\"line_indices\":[]}},\"selection_policy\":{\"type\":\"object\",\"name\":\"UnionRenderers\",\"id\":\"p5207\"},\"data\":{\"type\":\"map\",\"entries\":[[\"x\",[]],[\"y\",[]]]}}}],[\"line3_source\",{\"type\":\"object\",\"name\":\"ColumnDataSource\",\"id\":\"p5208\",\"attributes\":{\"selected\":{\"type\":\"object\",\"name\":\"Selection\",\"id\":\"p5209\",\"attributes\":{\"indices\":[],\"line_indices\":[]}},\"selection_policy\":{\"type\":\"object\",\"name\":\"UnionRenderers\",\"id\":\"p5210\"},\"data\":{\"type\":\"map\",\"entries\":[[\"x\",[]],[\"y\",[]]]}}}]]},\"code\":\"\\n    function clamp(v, min, max) {\\n        return Math.min(Math.max(v, min), max);\\n    }\\n\\n    function rotate_point(px, py, cx, cy, angle) {\\n        let dx = px - cx;\\n        let dy = py - cy;\\n        let cosA = Math.cos(angle);\\n        let sinA = Math.sin(angle);\\n        return [cx + dx*cosA - dy*sinA, cy + dx*sinA + dy*cosA];\\n    }\\n\\n    function midpoint(p1, p2) {\\n        return [(p1[0]+p2[0])/2, (p1[1]+p2[1])/2];\\n    }\\n\\n    function perp_direction(p1, p2) {\\n        let dx = p2[0] - p1[0];\\n        let dy = p2[1] - p1[1];\\n        let len = Math.sqrt(dx*dx + dy*dy);\\n        return len === 0 ? [0,0] : [-dy/len, dx/len];\\n    }\\n\\n    function intersect(p0, v0, p1, v1) {\\n        let A = [[v0[0], -v1[0]], [v0[1], -v1[1]]];\\n        let b = [p1[0]-p0[0], p1[1]-p0[1]];\\n        let det = A[0][0]*A[1][1] - A[0][1]*A[1][0];\\n        if (Math.abs(det) < 1e-8) return null;\\n        let t = (b[0]*A[1][1] - b[1]*A[0][1]) / det;\\n        return [p0[0] + t*v0[0], p0[1] + t*v0[1]];\\n    }\\n\\n    // Clamp base point inside unit square\\n    let x = clamp(base_source.data.base_x[0], 0, 1);\\n    let y = clamp(base_source.data.base_y[0], 0, 1);\\n    base_source.data.base_x[0] = x;\\n    base_source.data.base_y[0] = y;\\n\\n    // Compute all 6 rotated points (3 around (1,1), 3 around (0,0))\\n    let angles = [Math.PI/2, Math.PI, 3*Math.PI/2];\\n    let rotated = [];\\n    for (let angle of angles) {\\n        rotated.push(rotate_point(x, y, 1, 1, angle));\\n    }\\n    for (let angle of angles) {\\n        rotated.push(rotate_point(x, y, 0, 0, angle));\\n    }\\n\\n    rot_source.data = {\\n        rot_x: rotated.map(p => p[0]),\\n        rot_y: rotated.map(p => p[1])\\n    };\\n\\n    // Conditional bisector logic\\n    let line1_data = {x: [], y: []};\\n    let line2_data = {x: [], y: []};\\n    let line3_data = {x: [], y: []};\\n\\n    if (x <= y) {\\n        // Use CCW around (1,1), CW around (0,0)\\n        let p0 = [x, y];\\n        let p1 = rotate_point(x, y, 1, 1, Math.PI/2);\\n        let p2 = rotate_point(x, y, 0, 0, -Math.PI/2);\\n\\n        let origin1 = [1,1];\\n        let origin2 = [0,0];\\n        let origin3 = [1,0];\\n\\n        function bisector_points(a, b, origin) {\\n            let mid = midpoint(a, b);\\n            let dir = perp_direction(a, b);\\n            // line param: origin + t * dir\\n            return {origin: origin, dir: dir};\\n        }\\n\\n        let b1 = bisector_points(p0, p1, origin1);\\n        let b2 = bisector_points(p0, p2, origin2);\\n        let b3 = bisector_points(p1, p2, origin3);\\n\\n        let inter = intersect(b1.origin, b1.dir, b2.origin, b2.dir);\\n        if (inter !== null) {\\n            inter = intersect(inter, [0,0], b3.origin, b3.dir) || inter;\\n            if (inter !== null) {\\n                line1_data = {x: [b1.origin[0], inter[0]], y: [b1.origin[1], inter[1]]};\\n                line2_data = {x: [b2.origin[0], inter[0]], y: [b2.origin[1], inter[1]]};\\n                line3_data = {x: [b3.origin[0], inter[0]], y: [b3.origin[1], inter[1]]};\\n            }\\n        }\\n    } else {\\n        // Use CW around (1,1), CCW around (0,0)\\n        let p0 = [x, y];\\n        let p1 = rotate_point(x, y, 1, 1, -Math.PI/2);\\n        let p2 = rotate_point(x, y, 0, 0, Math.PI/2);\\n\\n        let origin1 = [1,1];\\n        let origin2 = [0,0];\\n        let origin3 = [0,1];\\n\\n        function bisector_points(a, b, origin) {\\n            let mid = midpoint(a, b);\\n            let dir = perp_direction(a, b);\\n            return {origin: origin, dir: dir};\\n        }\\n\\n        let b1 = bisector_points(p0, p1, origin1);\\n        let b2 = bisector_points(p0, p2, origin2);\\n        let b3 = bisector_points(p1, p2, origin3);\\n\\n        let inter = intersect(b1.origin, b1.dir, b2.origin, b2.dir);\\n        if (inter !== null) {\\n            inter = intersect(inter, [0,0], b3.origin, b3.dir) || inter;\\n            if (inter !== null) {\\n                line1_data = {x: [b1.origin[0], inter[0]], y: [b1.origin[1], inter[1]]};\\n                line2_data = {x: [b2.origin[0], inter[0]], y: [b2.origin[1], inter[1]]};\\n                line3_data = {x: [b3.origin[0], inter[0]], y: [b3.origin[1], inter[1]]};\\n            }\\n        }\\n    }\\n\\n    line1_source.data = line1_data;\\n    line2_source.data = line2_data;\\n    line3_source.data = line3_data;\\n\\n    base_source.change.emit();\\n    rot_source.change.emit();\\n    line1_source.change.emit();\\n    line2_source.change.emit();\\n    line3_source.change.emit();\\n\"}}]]]},\"selected\":{\"type\":\"object\",\"name\":\"Selection\",\"id\":\"p5197\",\"attributes\":{\"indices\":[],\"line_indices\":[]}},\"selection_policy\":{\"type\":\"object\",\"name\":\"UnionRenderers\",\"id\":\"p5198\"},\"data\":{\"type\":\"map\",\"entries\":[[\"base_x\",[0.5]],[\"base_y\",[0.5]]]}}},\"view\":{\"type\":\"object\",\"name\":\"CDSView\",\"id\":\"p5255\",\"attributes\":{\"filter\":{\"type\":\"object\",\"name\":\"AllIndices\",\"id\":\"p5256\"}}},\"glyph\":{\"type\":\"object\",\"name\":\"Scatter\",\"id\":\"p5251\",\"attributes\":{\"x\":{\"type\":\"field\",\"field\":\"base_x\"},\"y\":{\"type\":\"field\",\"field\":\"base_y\"},\"size\":{\"type\":\"value\",\"value\":10},\"line_color\":{\"type\":\"value\",\"value\":\"red\"},\"fill_color\":{\"type\":\"value\",\"value\":\"red\"},\"hatch_color\":{\"type\":\"value\",\"value\":\"red\"}}},\"nonselection_glyph\":{\"type\":\"object\",\"name\":\"Scatter\",\"id\":\"p5252\",\"attributes\":{\"x\":{\"type\":\"field\",\"field\":\"base_x\"},\"y\":{\"type\":\"field\",\"field\":\"base_y\"},\"size\":{\"type\":\"value\",\"value\":10},\"line_color\":{\"type\":\"value\",\"value\":\"red\"},\"line_alpha\":{\"type\":\"value\",\"value\":0.1},\"fill_color\":{\"type\":\"value\",\"value\":\"red\"},\"fill_alpha\":{\"type\":\"value\",\"value\":0.1},\"hatch_color\":{\"type\":\"value\",\"value\":\"red\"},\"hatch_alpha\":{\"type\":\"value\",\"value\":0.1}}},\"muted_glyph\":{\"type\":\"object\",\"name\":\"Scatter\",\"id\":\"p5253\",\"attributes\":{\"x\":{\"type\":\"field\",\"field\":\"base_x\"},\"y\":{\"type\":\"field\",\"field\":\"base_y\"},\"size\":{\"type\":\"value\",\"value\":10},\"line_color\":{\"type\":\"value\",\"value\":\"red\"},\"line_alpha\":{\"type\":\"value\",\"value\":0.2},\"fill_color\":{\"type\":\"value\",\"value\":\"red\"},\"fill_alpha\":{\"type\":\"value\",\"value\":0.2},\"hatch_color\":{\"type\":\"value\",\"value\":\"red\"},\"hatch_alpha\":{\"type\":\"value\",\"value\":0.2}}}}},{\"type\":\"object\",\"name\":\"GlyphRenderer\",\"id\":\"p5263\",\"attributes\":{\"data_source\":{\"id\":\"p5199\"},\"view\":{\"type\":\"object\",\"name\":\"CDSView\",\"id\":\"p5264\",\"attributes\":{\"filter\":{\"type\":\"object\",\"name\":\"AllIndices\",\"id\":\"p5265\"}}},\"glyph\":{\"type\":\"object\",\"name\":\"Scatter\",\"id\":\"p5260\",\"attributes\":{\"x\":{\"type\":\"field\",\"field\":\"rot_x\"},\"y\":{\"type\":\"field\",\"field\":\"rot_y\"},\"size\":{\"type\":\"value\",\"value\":8},\"line_color\":{\"type\":\"value\",\"value\":\"blue\"},\"fill_color\":{\"type\":\"value\",\"value\":\"blue\"},\"hatch_color\":{\"type\":\"value\",\"value\":\"blue\"}}},\"nonselection_glyph\":{\"type\":\"object\",\"name\":\"Scatter\",\"id\":\"p5261\",\"attributes\":{\"x\":{\"type\":\"field\",\"field\":\"rot_x\"},\"y\":{\"type\":\"field\",\"field\":\"rot_y\"},\"size\":{\"type\":\"value\",\"value\":8},\"line_color\":{\"type\":\"value\",\"value\":\"blue\"},\"line_alpha\":{\"type\":\"value\",\"value\":0.1},\"fill_color\":{\"type\":\"value\",\"value\":\"blue\"},\"fill_alpha\":{\"type\":\"value\",\"value\":0.1},\"hatch_color\":{\"type\":\"value\",\"value\":\"blue\"},\"hatch_alpha\":{\"type\":\"value\",\"value\":0.1}}},\"muted_glyph\":{\"type\":\"object\",\"name\":\"Scatter\",\"id\":\"p5262\",\"attributes\":{\"x\":{\"type\":\"field\",\"field\":\"rot_x\"},\"y\":{\"type\":\"field\",\"field\":\"rot_y\"},\"size\":{\"type\":\"value\",\"value\":8},\"line_color\":{\"type\":\"value\",\"value\":\"blue\"},\"line_alpha\":{\"type\":\"value\",\"value\":0.2},\"fill_color\":{\"type\":\"value\",\"value\":\"blue\"},\"fill_alpha\":{\"type\":\"value\",\"value\":0.2},\"hatch_color\":{\"type\":\"value\",\"value\":\"blue\"},\"hatch_alpha\":{\"type\":\"value\",\"value\":0.2}}}}},{\"type\":\"object\",\"name\":\"GlyphRenderer\",\"id\":\"p5272\",\"attributes\":{\"data_source\":{\"id\":\"p5202\"},\"view\":{\"type\":\"object\",\"name\":\"CDSView\",\"id\":\"p5273\",\"attributes\":{\"filter\":{\"type\":\"object\",\"name\":\"AllIndices\",\"id\":\"p5274\"}}},\"glyph\":{\"type\":\"object\",\"name\":\"Line\",\"id\":\"p5269\",\"attributes\":{\"x\":{\"type\":\"field\",\"field\":\"x\"},\"y\":{\"type\":\"field\",\"field\":\"y\"},\"line_color\":\"green\",\"line_width\":2}},\"nonselection_glyph\":{\"type\":\"object\",\"name\":\"Line\",\"id\":\"p5270\",\"attributes\":{\"x\":{\"type\":\"field\",\"field\":\"x\"},\"y\":{\"type\":\"field\",\"field\":\"y\"},\"line_color\":\"green\",\"line_alpha\":0.1,\"line_width\":2}},\"muted_glyph\":{\"type\":\"object\",\"name\":\"Line\",\"id\":\"p5271\",\"attributes\":{\"x\":{\"type\":\"field\",\"field\":\"x\"},\"y\":{\"type\":\"field\",\"field\":\"y\"},\"line_color\":\"green\",\"line_alpha\":0.2,\"line_width\":2}}}},{\"type\":\"object\",\"name\":\"GlyphRenderer\",\"id\":\"p5281\",\"attributes\":{\"data_source\":{\"id\":\"p5205\"},\"view\":{\"type\":\"object\",\"name\":\"CDSView\",\"id\":\"p5282\",\"attributes\":{\"filter\":{\"type\":\"object\",\"name\":\"AllIndices\",\"id\":\"p5283\"}}},\"glyph\":{\"type\":\"object\",\"name\":\"Line\",\"id\":\"p5278\",\"attributes\":{\"x\":{\"type\":\"field\",\"field\":\"x\"},\"y\":{\"type\":\"field\",\"field\":\"y\"},\"line_color\":\"green\",\"line_width\":2}},\"nonselection_glyph\":{\"type\":\"object\",\"name\":\"Line\",\"id\":\"p5279\",\"attributes\":{\"x\":{\"type\":\"field\",\"field\":\"x\"},\"y\":{\"type\":\"field\",\"field\":\"y\"},\"line_color\":\"green\",\"line_alpha\":0.1,\"line_width\":2}},\"muted_glyph\":{\"type\":\"object\",\"name\":\"Line\",\"id\":\"p5280\",\"attributes\":{\"x\":{\"type\":\"field\",\"field\":\"x\"},\"y\":{\"type\":\"field\",\"field\":\"y\"},\"line_color\":\"green\",\"line_alpha\":0.2,\"line_width\":2}}}},{\"type\":\"object\",\"name\":\"GlyphRenderer\",\"id\":\"p5290\",\"attributes\":{\"data_source\":{\"id\":\"p5208\"},\"view\":{\"type\":\"object\",\"name\":\"CDSView\",\"id\":\"p5291\",\"attributes\":{\"filter\":{\"type\":\"object\",\"name\":\"AllIndices\",\"id\":\"p5292\"}}},\"glyph\":{\"type\":\"object\",\"name\":\"Line\",\"id\":\"p5287\",\"attributes\":{\"x\":{\"type\":\"field\",\"field\":\"x\"},\"y\":{\"type\":\"field\",\"field\":\"y\"},\"line_color\":\"green\",\"line_width\":2}},\"nonselection_glyph\":{\"type\":\"object\",\"name\":\"Line\",\"id\":\"p5288\",\"attributes\":{\"x\":{\"type\":\"field\",\"field\":\"x\"},\"y\":{\"type\":\"field\",\"field\":\"y\"},\"line_color\":\"green\",\"line_alpha\":0.1,\"line_width\":2}},\"muted_glyph\":{\"type\":\"object\",\"name\":\"Line\",\"id\":\"p5289\",\"attributes\":{\"x\":{\"type\":\"field\",\"field\":\"x\"},\"y\":{\"type\":\"field\",\"field\":\"y\"},\"line_color\":\"green\",\"line_alpha\":0.2,\"line_width\":2}}}},{\"type\":\"object\",\"name\":\"GlyphRenderer\",\"id\":\"p5299\",\"attributes\":{\"data_source\":{\"type\":\"object\",\"name\":\"ColumnDataSource\",\"id\":\"p5293\",\"attributes\":{\"selected\":{\"type\":\"object\",\"name\":\"Selection\",\"id\":\"p5294\",\"attributes\":{\"indices\":[],\"line_indices\":[]}},\"selection_policy\":{\"type\":\"object\",\"name\":\"UnionRenderers\",\"id\":\"p5295\"},\"data\":{\"type\":\"map\",\"entries\":[[\"x\",[1,0]],[\"y\",[0,1]]]}}},\"view\":{\"type\":\"object\",\"name\":\"CDSView\",\"id\":\"p5300\",\"attributes\":{\"filter\":{\"type\":\"object\",\"name\":\"AllIndices\",\"id\":\"p5301\"}}},\"glyph\":{\"type\":\"object\",\"name\":\"Line\",\"id\":\"p5296\",\"attributes\":{\"x\":{\"type\":\"field\",\"field\":\"x\"},\"y\":{\"type\":\"field\",\"field\":\"y\"},\"line_color\":\"gray\",\"line_alpha\":0.8,\"line_width\":2}},\"nonselection_glyph\":{\"type\":\"object\",\"name\":\"Line\",\"id\":\"p5297\",\"attributes\":{\"x\":{\"type\":\"field\",\"field\":\"x\"},\"y\":{\"type\":\"field\",\"field\":\"y\"},\"line_color\":\"gray\",\"line_alpha\":0.1,\"line_width\":2}},\"muted_glyph\":{\"type\":\"object\",\"name\":\"Line\",\"id\":\"p5298\",\"attributes\":{\"x\":{\"type\":\"field\",\"field\":\"x\"},\"y\":{\"type\":\"field\",\"field\":\"y\"},\"line_color\":\"gray\",\"line_alpha\":0.2,\"line_width\":2}}}},{\"type\":\"object\",\"name\":\"GlyphRenderer\",\"id\":\"p5308\",\"attributes\":{\"data_source\":{\"type\":\"object\",\"name\":\"ColumnDataSource\",\"id\":\"p5302\",\"attributes\":{\"selected\":{\"type\":\"object\",\"name\":\"Selection\",\"id\":\"p5303\",\"attributes\":{\"indices\":[],\"line_indices\":[]}},\"selection_policy\":{\"type\":\"object\",\"name\":\"UnionRenderers\",\"id\":\"p5304\"},\"data\":{\"type\":\"map\",\"entries\":[[\"x\",[0,1]],[\"y\",[0,1]]]}}},\"view\":{\"type\":\"object\",\"name\":\"CDSView\",\"id\":\"p5309\",\"attributes\":{\"filter\":{\"type\":\"object\",\"name\":\"AllIndices\",\"id\":\"p5310\"}}},\"glyph\":{\"type\":\"object\",\"name\":\"Line\",\"id\":\"p5305\",\"attributes\":{\"x\":{\"type\":\"field\",\"field\":\"x\"},\"y\":{\"type\":\"field\",\"field\":\"y\"},\"line_color\":\"gray\",\"line_alpha\":0.8,\"line_width\":2}},\"nonselection_glyph\":{\"type\":\"object\",\"name\":\"Line\",\"id\":\"p5306\",\"attributes\":{\"x\":{\"type\":\"field\",\"field\":\"x\"},\"y\":{\"type\":\"field\",\"field\":\"y\"},\"line_color\":\"gray\",\"line_alpha\":0.1,\"line_width\":2}},\"muted_glyph\":{\"type\":\"object\",\"name\":\"Line\",\"id\":\"p5307\",\"attributes\":{\"x\":{\"type\":\"field\",\"field\":\"x\"},\"y\":{\"type\":\"field\",\"field\":\"y\"},\"line_color\":\"gray\",\"line_alpha\":0.2,\"line_width\":2}}}},{\"type\":\"object\",\"name\":\"GlyphRenderer\",\"id\":\"p5317\",\"attributes\":{\"data_source\":{\"type\":\"object\",\"name\":\"ColumnDataSource\",\"id\":\"p5311\",\"attributes\":{\"selected\":{\"type\":\"object\",\"name\":\"Selection\",\"id\":\"p5312\",\"attributes\":{\"indices\":[],\"line_indices\":[]}},\"selection_policy\":{\"type\":\"object\",\"name\":\"UnionRenderers\",\"id\":\"p5313\"},\"data\":{\"type\":\"map\",\"entries\":[[\"x\",[0,1]],[\"y\",[0,0]]]}}},\"view\":{\"type\":\"object\",\"name\":\"CDSView\",\"id\":\"p5318\",\"attributes\":{\"filter\":{\"type\":\"object\",\"name\":\"AllIndices\",\"id\":\"p5319\"}}},\"glyph\":{\"type\":\"object\",\"name\":\"Line\",\"id\":\"p5314\",\"attributes\":{\"x\":{\"type\":\"field\",\"field\":\"x\"},\"y\":{\"type\":\"field\",\"field\":\"y\"},\"line_color\":\"gray\",\"line_width\":2}},\"nonselection_glyph\":{\"type\":\"object\",\"name\":\"Line\",\"id\":\"p5315\",\"attributes\":{\"x\":{\"type\":\"field\",\"field\":\"x\"},\"y\":{\"type\":\"field\",\"field\":\"y\"},\"line_color\":\"gray\",\"line_alpha\":0.1,\"line_width\":2}},\"muted_glyph\":{\"type\":\"object\",\"name\":\"Line\",\"id\":\"p5316\",\"attributes\":{\"x\":{\"type\":\"field\",\"field\":\"x\"},\"y\":{\"type\":\"field\",\"field\":\"y\"},\"line_color\":\"gray\",\"line_alpha\":0.2,\"line_width\":2}}}},{\"type\":\"object\",\"name\":\"GlyphRenderer\",\"id\":\"p5326\",\"attributes\":{\"data_source\":{\"type\":\"object\",\"name\":\"ColumnDataSource\",\"id\":\"p5320\",\"attributes\":{\"selected\":{\"type\":\"object\",\"name\":\"Selection\",\"id\":\"p5321\",\"attributes\":{\"indices\":[],\"line_indices\":[]}},\"selection_policy\":{\"type\":\"object\",\"name\":\"UnionRenderers\",\"id\":\"p5322\"},\"data\":{\"type\":\"map\",\"entries\":[[\"x\",[1,1]],[\"y\",[0,1]]]}}},\"view\":{\"type\":\"object\",\"name\":\"CDSView\",\"id\":\"p5327\",\"attributes\":{\"filter\":{\"type\":\"object\",\"name\":\"AllIndices\",\"id\":\"p5328\"}}},\"glyph\":{\"type\":\"object\",\"name\":\"Line\",\"id\":\"p5323\",\"attributes\":{\"x\":{\"type\":\"field\",\"field\":\"x\"},\"y\":{\"type\":\"field\",\"field\":\"y\"},\"line_color\":\"gray\",\"line_width\":2}},\"nonselection_glyph\":{\"type\":\"object\",\"name\":\"Line\",\"id\":\"p5324\",\"attributes\":{\"x\":{\"type\":\"field\",\"field\":\"x\"},\"y\":{\"type\":\"field\",\"field\":\"y\"},\"line_color\":\"gray\",\"line_alpha\":0.1,\"line_width\":2}},\"muted_glyph\":{\"type\":\"object\",\"name\":\"Line\",\"id\":\"p5325\",\"attributes\":{\"x\":{\"type\":\"field\",\"field\":\"x\"},\"y\":{\"type\":\"field\",\"field\":\"y\"},\"line_color\":\"gray\",\"line_alpha\":0.2,\"line_width\":2}}}},{\"type\":\"object\",\"name\":\"GlyphRenderer\",\"id\":\"p5335\",\"attributes\":{\"data_source\":{\"type\":\"object\",\"name\":\"ColumnDataSource\",\"id\":\"p5329\",\"attributes\":{\"selected\":{\"type\":\"object\",\"name\":\"Selection\",\"id\":\"p5330\",\"attributes\":{\"indices\":[],\"line_indices\":[]}},\"selection_policy\":{\"type\":\"object\",\"name\":\"UnionRenderers\",\"id\":\"p5331\"},\"data\":{\"type\":\"map\",\"entries\":[[\"x\",[1,0]],[\"y\",[1,1]]]}}},\"view\":{\"type\":\"object\",\"name\":\"CDSView\",\"id\":\"p5336\",\"attributes\":{\"filter\":{\"type\":\"object\",\"name\":\"AllIndices\",\"id\":\"p5337\"}}},\"glyph\":{\"type\":\"object\",\"name\":\"Line\",\"id\":\"p5332\",\"attributes\":{\"x\":{\"type\":\"field\",\"field\":\"x\"},\"y\":{\"type\":\"field\",\"field\":\"y\"},\"line_color\":\"gray\",\"line_width\":2}},\"nonselection_glyph\":{\"type\":\"object\",\"name\":\"Line\",\"id\":\"p5333\",\"attributes\":{\"x\":{\"type\":\"field\",\"field\":\"x\"},\"y\":{\"type\":\"field\",\"field\":\"y\"},\"line_color\":\"gray\",\"line_alpha\":0.1,\"line_width\":2}},\"muted_glyph\":{\"type\":\"object\",\"name\":\"Line\",\"id\":\"p5334\",\"attributes\":{\"x\":{\"type\":\"field\",\"field\":\"x\"},\"y\":{\"type\":\"field\",\"field\":\"y\"},\"line_color\":\"gray\",\"line_alpha\":0.2,\"line_width\":2}}}},{\"type\":\"object\",\"name\":\"GlyphRenderer\",\"id\":\"p5344\",\"attributes\":{\"data_source\":{\"type\":\"object\",\"name\":\"ColumnDataSource\",\"id\":\"p5338\",\"attributes\":{\"selected\":{\"type\":\"object\",\"name\":\"Selection\",\"id\":\"p5339\",\"attributes\":{\"indices\":[],\"line_indices\":[]}},\"selection_policy\":{\"type\":\"object\",\"name\":\"UnionRenderers\",\"id\":\"p5340\"},\"data\":{\"type\":\"map\",\"entries\":[[\"x\",[0,0]],[\"y\",[1,0]]]}}},\"view\":{\"type\":\"object\",\"name\":\"CDSView\",\"id\":\"p5345\",\"attributes\":{\"filter\":{\"type\":\"object\",\"name\":\"AllIndices\",\"id\":\"p5346\"}}},\"glyph\":{\"type\":\"object\",\"name\":\"Line\",\"id\":\"p5341\",\"attributes\":{\"x\":{\"type\":\"field\",\"field\":\"x\"},\"y\":{\"type\":\"field\",\"field\":\"y\"},\"line_color\":\"gray\",\"line_width\":2}},\"nonselection_glyph\":{\"type\":\"object\",\"name\":\"Line\",\"id\":\"p5342\",\"attributes\":{\"x\":{\"type\":\"field\",\"field\":\"x\"},\"y\":{\"type\":\"field\",\"field\":\"y\"},\"line_color\":\"gray\",\"line_alpha\":0.1,\"line_width\":2}},\"muted_glyph\":{\"type\":\"object\",\"name\":\"Line\",\"id\":\"p5343\",\"attributes\":{\"x\":{\"type\":\"field\",\"field\":\"x\"},\"y\":{\"type\":\"field\",\"field\":\"y\"},\"line_color\":\"gray\",\"line_alpha\":0.2,\"line_width\":2}}}}],\"toolbar\":{\"type\":\"object\",\"name\":\"Toolbar\",\"id\":\"p5220\",\"attributes\":{\"tools\":[{\"type\":\"object\",\"name\":\"PanTool\",\"id\":\"p5235\"},{\"type\":\"object\",\"name\":\"WheelZoomTool\",\"id\":\"p5236\",\"attributes\":{\"renderers\":\"auto\"}},{\"type\":\"object\",\"name\":\"BoxZoomTool\",\"id\":\"p5237\",\"attributes\":{\"overlay\":{\"type\":\"object\",\"name\":\"BoxAnnotation\",\"id\":\"p5238\",\"attributes\":{\"syncable\":false,\"line_color\":\"black\",\"line_alpha\":1.0,\"line_width\":2,\"line_dash\":[4,4],\"fill_color\":\"lightgrey\",\"fill_alpha\":0.5,\"level\":\"overlay\",\"visible\":false,\"left\":{\"type\":\"number\",\"value\":\"nan\"},\"right\":{\"type\":\"number\",\"value\":\"nan\"},\"top\":{\"type\":\"number\",\"value\":\"nan\"},\"bottom\":{\"type\":\"number\",\"value\":\"nan\"},\"left_units\":\"canvas\",\"right_units\":\"canvas\",\"top_units\":\"canvas\",\"bottom_units\":\"canvas\",\"handles\":{\"type\":\"object\",\"name\":\"BoxInteractionHandles\",\"id\":\"p5244\",\"attributes\":{\"all\":{\"type\":\"object\",\"name\":\"AreaVisuals\",\"id\":\"p5243\",\"attributes\":{\"fill_color\":\"white\",\"hover_fill_color\":\"lightgray\"}}}}}}}},{\"type\":\"object\",\"name\":\"SaveTool\",\"id\":\"p5245\"},{\"type\":\"object\",\"name\":\"ResetTool\",\"id\":\"p5246\"},{\"type\":\"object\",\"name\":\"HelpTool\",\"id\":\"p5247\"},{\"type\":\"object\",\"name\":\"PointDrawTool\",\"id\":\"p5347\",\"attributes\":{\"renderers\":[{\"id\":\"p5254\"}],\"num_objects\":1}}],\"active_drag\":{\"id\":\"p5347\"}}},\"left\":[{\"type\":\"object\",\"name\":\"LinearAxis\",\"id\":\"p5230\",\"attributes\":{\"ticker\":{\"type\":\"object\",\"name\":\"BasicTicker\",\"id\":\"p5231\",\"attributes\":{\"mantissas\":[1,2,5]}},\"formatter\":{\"type\":\"object\",\"name\":\"BasicTickFormatter\",\"id\":\"p5232\"},\"major_label_policy\":{\"type\":\"object\",\"name\":\"AllLabels\",\"id\":\"p5233\"}}}],\"below\":[{\"type\":\"object\",\"name\":\"LinearAxis\",\"id\":\"p5225\",\"attributes\":{\"ticker\":{\"type\":\"object\",\"name\":\"BasicTicker\",\"id\":\"p5226\",\"attributes\":{\"mantissas\":[1,2,5]}},\"formatter\":{\"type\":\"object\",\"name\":\"BasicTickFormatter\",\"id\":\"p5227\"},\"major_label_policy\":{\"type\":\"object\",\"name\":\"AllLabels\",\"id\":\"p5228\"}}}],\"center\":[{\"type\":\"object\",\"name\":\"Grid\",\"id\":\"p5229\",\"attributes\":{\"axis\":{\"id\":\"p5225\"}}},{\"type\":\"object\",\"name\":\"Grid\",\"id\":\"p5234\",\"attributes\":{\"dimension\":1,\"axis\":{\"id\":\"p5230\"}}}],\"match_aspect\":true}}]}};\n  const render_items = [{\"docid\":\"456bc87a-6edc-4916-a3b2-6e0b82a6854a\",\"roots\":{\"p5211\":\"d286f383-f797-4426-8dfa-12af7af89a7b\"},\"root_ids\":[\"p5211\"]}];\n  void root.Bokeh.embed.embed_items_notebook(docs_json, render_items);\n  }\n  if (root.Bokeh !== undefined) {\n    embed_document(root);\n  } else {\n    let attempts = 0;\n    const timer = setInterval(function(root) {\n      if (root.Bokeh !== undefined) {\n        clearInterval(timer);\n        embed_document(root);\n      } else {\n        attempts++;\n        if (attempts > 100) {\n          clearInterval(timer);\n          console.log(\"Bokeh: ERROR: Unable to run BokehJS code because BokehJS library is missing\");\n        }\n      }\n    }, 10, root)\n  }\n})(window);",
      "application/vnd.bokehjs_exec.v0+json": ""
     },
     "metadata": {
      "application/vnd.bokehjs_exec.v0+json": {
       "id": "p5211"
      }
     },
     "output_type": "display_data"
    }
   ],
   "source": [
    "import numpy as np\n",
    "from bokeh.plotting import figure, show, output_notebook\n",
    "from bokeh.models import ColumnDataSource, PointDrawTool, CustomJS\n",
    "\n",
    "output_notebook()\n",
    "\n",
    "wh = 600\n",
    "\n",
    "def rotate_point(p, center, angle_rad):\n",
    "    R = np.array([[np.cos(angle_rad), -np.sin(angle_rad)],\n",
    "                  [np.sin(angle_rad),  np.cos(angle_rad)]])\n",
    "    return center + R @ (p - center)\n",
    "\n",
    "def compute_all_rotations(x, y):\n",
    "    p = np.array([x, y])\n",
    "    angles = [np.pi/2, np.pi, 3*np.pi/2]\n",
    "    rotated_points = []\n",
    "    # Rotations around (1,1)\n",
    "    for angle in angles:\n",
    "        rotated_points.append(rotate_point(p, np.array([1,1]), angle))\n",
    "    # Rotations around (0,0)\n",
    "    for angle in angles:\n",
    "        rotated_points.append(rotate_point(p, np.array([0,0]), angle))\n",
    "    return np.array(rotated_points)\n",
    "\n",
    "# Data sources\n",
    "base_source = ColumnDataSource(data=dict(base_x=[0.5], base_y=[0.5]))\n",
    "rot_source = ColumnDataSource(data=dict(rot_x=[], rot_y=[]))\n",
    "line1_source = ColumnDataSource(data=dict(x=[], y=[]))\n",
    "line2_source = ColumnDataSource(data=dict(x=[], y=[]))\n",
    "line3_source = ColumnDataSource(data=dict(x=[], y=[]))\n",
    "\n",
    "p = figure(x_range=(-1.1, 2.1), y_range=(-1.1, 2.1), match_aspect=True,\n",
    "           width=wh, height=wh, title=\"Rotations & Perpendicular Bisectors\")\n",
    "\n",
    "# Plot base point\n",
    "base_glyph = p.scatter('base_x', 'base_y', source=base_source, size=10, color='red', marker='circle')\n",
    "\n",
    "# Plot rotated points (always show all 6)\n",
    "rot_glyph = p.scatter('rot_x', 'rot_y', source=rot_source, size=8, color='blue', marker='circle')\n",
    "\n",
    "# Plot bisector lines\n",
    "p.line('x', 'y', source=line1_source, line_color='green', line_width=2)\n",
    "p.line('x', 'y', source=line2_source, line_color='green', line_width=2)\n",
    "p.line('x', 'y', source=line3_source, line_color='green', line_width=2)\n",
    "\n",
    "p.line([1, 0], [0, 1], color='gray', line_width=2, alpha=0.8)\n",
    "p.line([0, 1], [0, 1], color='gray', line_width=2, alpha=0.8)\n",
    "\n",
    "# Unit square boundary\n",
    "unit_square = [([0,1],[0,0]), ([1,1],[0,1]), ([1,0],[1,1]), ([0,0],[1,0])]\n",
    "for xs, ys in unit_square:\n",
    "    p.line(xs, ys, color='gray', line_width=2)\n",
    "\n",
    "# p.legend.location = \"top_left\"\n",
    "\n",
    "# Tool for dragging base point\n",
    "draw_tool = PointDrawTool(renderers=[base_glyph], num_objects=1)\n",
    "p.add_tools(draw_tool)\n",
    "p.toolbar.active_drag = draw_tool\n",
    "\n",
    "callback = CustomJS(args=dict(base_source=base_source, rot_source=rot_source,\n",
    "                              line1_source=line1_source, line2_source=line2_source, line3_source=line3_source), code=\"\"\"\n",
    "    function clamp(v, min, max) {\n",
    "        return Math.min(Math.max(v, min), max);\n",
    "    }\n",
    "\n",
    "    function rotate_point(px, py, cx, cy, angle) {\n",
    "        let dx = px - cx;\n",
    "        let dy = py - cy;\n",
    "        let cosA = Math.cos(angle);\n",
    "        let sinA = Math.sin(angle);\n",
    "        return [cx + dx*cosA - dy*sinA, cy + dx*sinA + dy*cosA];\n",
    "    }\n",
    "\n",
    "    function midpoint(p1, p2) {\n",
    "        return [(p1[0]+p2[0])/2, (p1[1]+p2[1])/2];\n",
    "    }\n",
    "\n",
    "    function perp_direction(p1, p2) {\n",
    "        let dx = p2[0] - p1[0];\n",
    "        let dy = p2[1] - p1[1];\n",
    "        let len = Math.sqrt(dx*dx + dy*dy);\n",
    "        return len === 0 ? [0,0] : [-dy/len, dx/len];\n",
    "    }\n",
    "\n",
    "    function intersect(p0, v0, p1, v1) {\n",
    "        let A = [[v0[0], -v1[0]], [v0[1], -v1[1]]];\n",
    "        let b = [p1[0]-p0[0], p1[1]-p0[1]];\n",
    "        let det = A[0][0]*A[1][1] - A[0][1]*A[1][0];\n",
    "        if (Math.abs(det) < 1e-8) return null;\n",
    "        let t = (b[0]*A[1][1] - b[1]*A[0][1]) / det;\n",
    "        return [p0[0] + t*v0[0], p0[1] + t*v0[1]];\n",
    "    }\n",
    "\n",
    "    // Clamp base point inside unit square\n",
    "    let x = clamp(base_source.data.base_x[0], 0, 1);\n",
    "    let y = clamp(base_source.data.base_y[0], 0, 1);\n",
    "    base_source.data.base_x[0] = x;\n",
    "    base_source.data.base_y[0] = y;\n",
    "\n",
    "    // Compute all 6 rotated points (3 around (1,1), 3 around (0,0))\n",
    "    let angles = [Math.PI/2, Math.PI, 3*Math.PI/2];\n",
    "    let rotated = [];\n",
    "    for (let angle of angles) {\n",
    "        rotated.push(rotate_point(x, y, 1, 1, angle));\n",
    "    }\n",
    "    for (let angle of angles) {\n",
    "        rotated.push(rotate_point(x, y, 0, 0, angle));\n",
    "    }\n",
    "\n",
    "    rot_source.data = {\n",
    "        rot_x: rotated.map(p => p[0]),\n",
    "        rot_y: rotated.map(p => p[1])\n",
    "    };\n",
    "\n",
    "    // Conditional bisector logic\n",
    "    let line1_data = {x: [], y: []};\n",
    "    let line2_data = {x: [], y: []};\n",
    "    let line3_data = {x: [], y: []};\n",
    "\n",
    "    if (x <= y) {\n",
    "        // Use CCW around (1,1), CW around (0,0)\n",
    "        let p0 = [x, y];\n",
    "        let p1 = rotate_point(x, y, 1, 1, Math.PI/2);\n",
    "        let p2 = rotate_point(x, y, 0, 0, -Math.PI/2);\n",
    "\n",
    "        let origin1 = [1,1];\n",
    "        let origin2 = [0,0];\n",
    "        let origin3 = [1,0];\n",
    "\n",
    "        function bisector_points(a, b, origin) {\n",
    "            let mid = midpoint(a, b);\n",
    "            let dir = perp_direction(a, b);\n",
    "            // line param: origin + t * dir\n",
    "            return {origin: origin, dir: dir};\n",
    "        }\n",
    "\n",
    "        let b1 = bisector_points(p0, p1, origin1);\n",
    "        let b2 = bisector_points(p0, p2, origin2);\n",
    "        let b3 = bisector_points(p1, p2, origin3);\n",
    "\n",
    "        let inter = intersect(b1.origin, b1.dir, b2.origin, b2.dir);\n",
    "        if (inter !== null) {\n",
    "            inter = intersect(inter, [0,0], b3.origin, b3.dir) || inter;\n",
    "            if (inter !== null) {\n",
    "                line1_data = {x: [b1.origin[0], inter[0]], y: [b1.origin[1], inter[1]]};\n",
    "                line2_data = {x: [b2.origin[0], inter[0]], y: [b2.origin[1], inter[1]]};\n",
    "                line3_data = {x: [b3.origin[0], inter[0]], y: [b3.origin[1], inter[1]]};\n",
    "            }\n",
    "        }\n",
    "    } else {\n",
    "        // Use CW around (1,1), CCW around (0,0)\n",
    "        let p0 = [x, y];\n",
    "        let p1 = rotate_point(x, y, 1, 1, -Math.PI/2);\n",
    "        let p2 = rotate_point(x, y, 0, 0, Math.PI/2);\n",
    "\n",
    "        let origin1 = [1,1];\n",
    "        let origin2 = [0,0];\n",
    "        let origin3 = [0,1];\n",
    "\n",
    "        function bisector_points(a, b, origin) {\n",
    "            let mid = midpoint(a, b);\n",
    "            let dir = perp_direction(a, b);\n",
    "            return {origin: origin, dir: dir};\n",
    "        }\n",
    "\n",
    "        let b1 = bisector_points(p0, p1, origin1);\n",
    "        let b2 = bisector_points(p0, p2, origin2);\n",
    "        let b3 = bisector_points(p1, p2, origin3);\n",
    "\n",
    "        let inter = intersect(b1.origin, b1.dir, b2.origin, b2.dir);\n",
    "        if (inter !== null) {\n",
    "            inter = intersect(inter, [0,0], b3.origin, b3.dir) || inter;\n",
    "            if (inter !== null) {\n",
    "                line1_data = {x: [b1.origin[0], inter[0]], y: [b1.origin[1], inter[1]]};\n",
    "                line2_data = {x: [b2.origin[0], inter[0]], y: [b2.origin[1], inter[1]]};\n",
    "                line3_data = {x: [b3.origin[0], inter[0]], y: [b3.origin[1], inter[1]]};\n",
    "            }\n",
    "        }\n",
    "    }\n",
    "\n",
    "    line1_source.data = line1_data;\n",
    "    line2_source.data = line2_data;\n",
    "    line3_source.data = line3_data;\n",
    "\n",
    "    base_source.change.emit();\n",
    "    rot_source.change.emit();\n",
    "    line1_source.change.emit();\n",
    "    line2_source.change.emit();\n",
    "    line3_source.change.emit();\n",
    "\"\"\")\n",
    "\n",
    "base_source.js_on_change('data', callback)\n",
    "\n",
    "show(p)"
   ]
  },
  {
   "cell_type": "code",
   "execution_count": 93,
   "id": "73abe419",
   "metadata": {},
   "outputs": [],
   "source": [
    "import numpy as np\n",
    "\n",
    "def compute_D(X):\n",
    "    \"\"\"\n",
    "    X: np.ndarray, shape (2, n)\n",
    "    Returns: D: np.ndarray, shape (n, n)\n",
    "    \"\"\"\n",
    "    n = X.shape[1]\n",
    "\n",
    "    A_all = np.stack([\n",
    "        np.eye(2),                          # identity\n",
    "        np.array([[0, -1], [1, 0]]),        # g1\n",
    "        np.array([[-1, 0], [0, -1]]),       # g1^2\n",
    "        np.array([[0, 1], [-1, 0]]),        # g1^3\n",
    "        np.array([[-1, 0], [0, -1]]),       # g2\n",
    "        np.array([[-1, 0], [0, -1]]),       # g3\n",
    "        np.array([[0, -1], [1, 0]]),        # g4\n",
    "        np.array([[-1, 0], [0, -1]]),       # g4^2\n",
    "        np.array([[0, 1], [-1, 0]])         # g4^3\n",
    "    ])  # shape (9, 2, 2)\n",
    "\n",
    "    b_all = np.array([\n",
    "        [0, 0],    # identity\n",
    "        [0, 0],    # g1\n",
    "        [0, 0],    # g1^2\n",
    "        [0, 0],    # g1^3\n",
    "        [2, 0],    # g2\n",
    "        [0, 2],    # g3\n",
    "        [2, 0],    # g4\n",
    "        [2, 2],    # g4^2\n",
    "        [0, 2]     # g4^3\n",
    "    ]).T  # shape (2, 9)\n",
    "\n",
    "    D = np.zeros((n, n), dtype=X.dtype)\n",
    "\n",
    "    for ii in range(n):\n",
    "        x = X[:, ii].reshape(2, 1)  # shape (2, 1)\n",
    "        for jj in range(n):\n",
    "            y = X[:, jj].reshape(2, 1)  # shape (2, 1)\n",
    "\n",
    "            # Compute all 9 transformations: A @ y + b\n",
    "            y_repeated = np.repeat(y[np.newaxis, :, :], 9, axis=0)  # (9, 2, 1)\n",
    "            y_transformed = A_all @ y_repeated  # (9, 2, 1)\n",
    "            y_transformed = y_transformed.squeeze(2) + b_all.T  # (9, 2)\n",
    "\n",
    "            # Compute distances squared: ||x - y_transformed||^2\n",
    "            diff = y_transformed - x.T  # (9, 2)\n",
    "            dist_squared = np.sum(diff**2, axis=1)  # (9,)\n",
    "            D[ii, jj] = np.min(dist_squared)\n",
    "\n",
    "    return D\n",
    "\n",
    "def create_X(n):\n",
    "    \"\"\"\n",
    "    Creates a grid of points in the unit square, similar to the MATLAB version.\n",
    "    \n",
    "    Returns:\n",
    "        X: np.ndarray of shape (2, n)\n",
    "    \"\"\"\n",
    "    k = int(round(n ** 0.5))\n",
    "    points = []\n",
    "\n",
    "    for ii in range(1, k + 1):\n",
    "        for jj in range(1, k + 1):\n",
    "            x1 = (ii - 1) / k\n",
    "            x2 = (jj - 1) / (k - 1) if k > 1 else 0\n",
    "            points.append([x1, x2])\n",
    "\n",
    "    X = np.array(points).T  # shape (2, n)\n",
    "    return X\n",
    "\n",
    "def compute_Xc(X):\n",
    "    \"\"\"\n",
    "    Given X of shape (2, n), return X_c of shape (n,), where each complex number is x + i y.\n",
    "    \"\"\"\n",
    "    return X[0] + 1j * X[1]\n",
    "\n",
    "\n",
    "def process_complex(z):\n",
    "    \"\"\"\n",
    "    Apply piecewise function to complex number z:\n",
    "    - If Im(z) <= 1 - Re(z): return [sin(pi/8) * z**4, cos(pi/8) * |z|]\n",
    "    - Else: reflect z across the line y = 1 - x, then apply same rule.\n",
    "\n",
    "    Returns:\n",
    "        np.ndarray of shape (2,), real values\n",
    "    \"\"\"\n",
    "    # Check condition\n",
    "    if z.imag > 1 - z.real:\n",
    "        reflect = -1\n",
    "        z, dist = reflect_across_y_eq_1_minus_x(z)\n",
    "    else:\n",
    "        _, dist = reflect_across_y_eq_1_minus_x(z)\n",
    "        reflect = 1\n",
    "    val1 = np.sin(np.pi / 8) * (z**4)\n",
    "    val2 = np.cos(np.pi / 8) * abs(z)\n",
    "\n",
    "    return np.array([val1, val2.real, reflect*dist])\n",
    "\n",
    "def reflect_across_y_eq_1_minus_x(z):\n",
    "    \"\"\"\n",
    "    Reflect complex number z across the line y = 1 - x\n",
    "    \"\"\"\n",
    "    # Shift so line passes through origin\n",
    "    c = 0.5 + 0.5j  # midpoint of the line segment [0,1] and [1,0]\n",
    "    z_shifted = z - c\n",
    "\n",
    "    # Reflect across line through origin with direction u\n",
    "    u = (1 + 1j) / np.sqrt(2)\n",
    "\n",
    "    proj_length = (z_shifted * np.conj(u)).real  # scalar projection\n",
    "    proj_point = proj_length * u                 # complex projection point on the line\n",
    "    z_reflected = z_shifted - 2 * proj_point\n",
    "\n",
    "    dist = np.abs(z_shifted - z_reflected)/2\n",
    "\n",
    "    # Shift back\n",
    "    return z_reflected + c, dist\n",
    "\n",
    "def compute_complex_distance_matrix(FXc):\n",
    "    \"\"\"\n",
    "    FXc: np.ndarray of shape (n, 2), complex dtype\n",
    "    Returns:\n",
    "        D: np.ndarray of shape (n, n), real dtype\n",
    "    \"\"\"\n",
    "    n = FXc.shape[0]\n",
    "    D = np.zeros((n, n), dtype=np.float64)\n",
    "\n",
    "    for i in range(n):\n",
    "        for j in range(n):\n",
    "            diff = FXc[i] - FXc[j]  # shape (2,)\n",
    "            D[i, j] = (np.sum(np.abs(diff)**2))  # Euclidean norm\n",
    "\n",
    "    return D\n",
    "\n",
    "def entrywise_ratio_bounds(FD, D, tol=1e-12):\n",
    "    \"\"\"\n",
    "    FD, D: np.ndarray of shape (n, n)\n",
    "    tol: float, ignore entries where D < tol\n",
    "    Returns: (min_ratio, max_ratio) over entries where D >= tol\n",
    "    \"\"\"\n",
    "    mask = D >= tol\n",
    "    ratio = np.zeros_like(FD, dtype=np.float64)\n",
    "    ratio[mask] = FD[mask] / D[mask]\n",
    "    \n",
    "    if not np.any(mask):\n",
    "        raise ValueError(\"All entries in D are below the tolerance threshold.\")\n",
    "\n",
    "    min_ratio = np.min(ratio[mask])\n",
    "    max_ratio = np.max(ratio[mask])\n",
    "    \n",
    "    return min_ratio, max_ratio"
   ]
  },
  {
   "cell_type": "code",
   "execution_count": 104,
   "id": "136e54b3",
   "metadata": {},
   "outputs": [
    {
     "data": {
      "text/plain": [
       "np.float64(673.8521381885109)"
      ]
     },
     "execution_count": 104,
     "metadata": {},
     "output_type": "execute_result"
    }
   ],
   "source": [
    "X = create_X(225)  # Example usage to create a grid of points\n",
    "D = compute_D(X)\n",
    "Xc = compute_Xc(X)\n",
    "FXc = np.array([process_complex(z) for z in Xc])  # shape (n, 2)\n",
    "FD = compute_complex_distance_matrix(FXc)\n",
    "min_ratio, max_ratio = entrywise_ratio_bounds(FD, D)\n",
    "max_ratio/min_ratio"
   ]
  },
  {
   "cell_type": "code",
   "execution_count": 105,
   "id": "35d0bb71",
   "metadata": {},
   "outputs": [
    {
     "data": {
      "text/plain": [
       "np.float64(3.269978949480359)"
      ]
     },
     "execution_count": 105,
     "metadata": {},
     "output_type": "execute_result"
    }
   ],
   "source": [
    "max_ratio"
   ]
  },
  {
   "cell_type": "code",
   "execution_count": 106,
   "id": "61308ae1",
   "metadata": {},
   "outputs": [
    {
     "data": {
      "text/plain": [
       "np.float64(0.004852665390764967)"
      ]
     },
     "execution_count": 106,
     "metadata": {},
     "output_type": "execute_result"
    }
   ],
   "source": [
    "min_ratio"
   ]
  },
  {
   "cell_type": "code",
   "execution_count": 95,
   "id": "91d63a3a",
   "metadata": {},
   "outputs": [
    {
     "data": {
      "text/plain": [
       "array([0.        +0.j , 0.        +0.5j, 0.        +1.j , 0.33333333+0.j ,\n",
       "       0.33333333+0.5j, 0.33333333+1.j , 0.66666667+0.j , 0.66666667+0.5j,\n",
       "       0.66666667+1.j ])"
      ]
     },
     "execution_count": 95,
     "metadata": {},
     "output_type": "execute_result"
    }
   ],
   "source": [
    "Xc"
   ]
  },
  {
   "cell_type": "code",
   "execution_count": 96,
   "id": "19b3cf79",
   "metadata": {},
   "outputs": [
    {
     "data": {
      "text/plain": [
       "array([0.11111111, 0.02777778, 0.44444444, 0.        , 0.13888889,\n",
       "       0.55555556, 0.11111111, 0.36111111, 0.88888889])"
      ]
     },
     "execution_count": 96,
     "metadata": {},
     "output_type": "execute_result"
    }
   ],
   "source": [
    "D[3,:]"
   ]
  },
  {
   "cell_type": "code",
   "execution_count": 97,
   "id": "4f677030",
   "metadata": {},
   "outputs": [
    {
     "data": {
      "text/plain": [
       "array([0.15041714, 0.03796709, 0.74443225, 0.        , 0.18896363,\n",
       "       0.59986144, 0.155417  , 0.41118586, 0.88888889])"
      ]
     },
     "execution_count": 97,
     "metadata": {},
     "output_type": "execute_result"
    }
   ],
   "source": [
    "FD[3,:]"
   ]
  },
  {
   "cell_type": "code",
   "execution_count": null,
   "id": "f25f3496",
   "metadata": {},
   "outputs": [],
   "source": []
  },
  {
   "cell_type": "code",
   "execution_count": 101,
   "id": "05431eec",
   "metadata": {},
   "outputs": [
    {
     "data": {
      "text/plain": [
       "np.float64(9.83691898192851)"
      ]
     },
     "execution_count": 101,
     "metadata": {},
     "output_type": "execute_result"
    }
   ],
   "source": [
    "max_ratio/min_ratio"
   ]
  },
  {
   "cell_type": "code",
   "execution_count": 68,
   "id": "27335014",
   "metadata": {},
   "outputs": [
    {
     "data": {
      "text/plain": [
       "array([-0.09567086+0.j,  0.65328148+0.j])"
      ]
     },
     "execution_count": 68,
     "metadata": {},
     "output_type": "execute_result"
    }
   ],
   "source": [
    "z = 0.5+0.5j\n",
    "process_complex(z)  # Example usage of process_complex function"
   ]
  },
  {
   "cell_type": "code",
   "execution_count": null,
   "id": "ff212fa5",
   "metadata": {},
   "outputs": [],
   "source": []
  }
 ],
 "metadata": {
  "kernelspec": {
   "display_name": "casual",
   "language": "python",
   "name": "python3"
  },
  "language_info": {
   "codemirror_mode": {
    "name": "ipython",
    "version": 3
   },
   "file_extension": ".py",
   "mimetype": "text/x-python",
   "name": "python",
   "nbconvert_exporter": "python",
   "pygments_lexer": "ipython3",
   "version": "3.13.5"
  }
 },
 "nbformat": 4,
 "nbformat_minor": 5
}
